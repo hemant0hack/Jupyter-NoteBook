{
 "cells": [
  {
   "cell_type": "markdown",
   "id": "be129895",
   "metadata": {},
   "source": [
    "#List in Python"
   ]
  },
  {
   "cell_type": "code",
   "execution_count": null,
   "id": "acccf38a",
   "metadata": {},
   "outputs": [
    {
     "name": "stdout",
     "output_type": "stream",
     "text": [
      "At indexes 0 and -6 elments are q\n",
      "At indexes 1 and -5 elments are w\n",
      "At indexes 2 and -4 elments are e\n",
      "At indexes 3 and -3 elments are r\n",
      "At indexes 4 and -2 elments are t\n",
      "At indexes 5 and -1 elments are y\n"
     ]
    }
   ],
   "source": [
    "# \n",
    "l = ['q', 'w', 'e', 'r', 't', 'y']\n",
    "length = len(l)\n",
    "for a in range(length):\n",
    "    print(\"At indexes\",a,\"and\",(a-length),\"elments are\",l[a])"
   ]
  },
  {
   "cell_type": "code",
   "execution_count": 1,
   "id": "c4e210e9",
   "metadata": {},
   "outputs": [
    {
     "name": "stdout",
     "output_type": "stream",
     "text": [
      "Original list: [17, 24, 15, 30, 34, 27]\n",
      "Created copy of list: [17, 24, 15, 30, 34, 27]\n",
      "After modifying copy of list: [27, 24, 15, 30, 34, 37]\n",
      "Created copy of list: [27, 24, 15, 30, 34, 37]\n"
     ]
    }
   ],
   "source": [
    "l1 = [17,24,15,30,34,27]\n",
    "l2 = l1.copy()\n",
    "print(\"Original list:\",l1)\n",
    "print(\"Created copy of list:\",l2)\n",
    "l2[0] += 10\n",
    "l2[-1] +=10\n",
    "print(\"After modifying copy of list:\",l2)\n",
    "print(\"Created copy of list:\",l2)"
   ]
  },
  {
   "cell_type": "code",
   "execution_count": 7,
   "id": "d8c08bf0",
   "metadata": {},
   "outputs": [
    {
     "name": "stdout",
     "output_type": "stream",
     "text": [
      "2D list is: [[3, 3], [3, 3]]\n"
     ]
    }
   ],
   "source": [
    "# Program to create a 2d list.\n",
    "lst=[]\n",
    "r = int(input(\"Enter number of rows:\"))\n",
    "c = int(input(\"Enter number of columns:\"))\n",
    "for i in range(r):\n",
    "    row =[]\n",
    "    for j in range(c):\n",
    "        elem = int(input(\"Element\"+str(i)+\",\"+str(j)+\":\"))\n",
    "        row.append(elem)\n",
    "    lst.append(row)\n",
    "print(\"2D list is:\",lst)"
   ]
  },
  {
   "cell_type": "code",
   "execution_count": 9,
   "id": "5bd029ec",
   "metadata": {},
   "outputs": [
    {
     "name": "stdout",
     "output_type": "stream",
     "text": [
      "List created is:\n",
      "lst = [\n",
      "\t[ 3 3 ]\n",
      "\t[ 3 3 ]\n",
      "\t]\n"
     ]
    }
   ],
   "source": [
    "# Program to traverse a 2d list\n",
    "print(\"List created is:\")\n",
    "print(\"lst = [\")\n",
    "for i in range(r):\n",
    "    print(\"\\t[\",end = \" \")\n",
    "    for j in range(c):\n",
    "        print(lst[i][j],end = \" \")\n",
    "    print(\"]\")\n",
    "print(\"\\t]\")"
   ]
  },
  {
   "cell_type": "code",
   "execution_count": null,
   "id": "be0fe081",
   "metadata": {},
   "outputs": [],
   "source": []
  }
 ],
 "metadata": {
  "kernelspec": {
   "display_name": "Python 3",
   "language": "python",
   "name": "python3"
  },
  "language_info": {
   "codemirror_mode": {
    "name": "ipython",
    "version": 3
   },
   "file_extension": ".py",
   "mimetype": "text/x-python",
   "name": "python",
   "nbconvert_exporter": "python",
   "pygments_lexer": "ipython3",
   "version": "3.13.7"
  }
 },
 "nbformat": 4,
 "nbformat_minor": 5
}
