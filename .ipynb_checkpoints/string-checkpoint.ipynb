{
 "cells": [
  {
   "cell_type": "markdown",
   "id": "28abb17e",
   "metadata": {},
   "source": [
    "# String -Python\n",
    "                by Computer science with python book sumita arora. (XI) "
   ]
  },
  {
   "cell_type": "code",
   "execution_count": 4,
   "id": "934163f8",
   "metadata": {},
   "outputs": [
    {
     "name": "stdout",
     "output_type": "stream",
     "text": [
      "The Hemant in reverse order is:\n",
      "t\n",
      "n\n",
      "a\n",
      "m\n",
      "e\n",
      "H\n"
     ]
    }
   ],
   "source": [
    "#1 to read string and display it in reverse order = display one character per line.\n",
    "str1= input(\"Enter a string.\")\n",
    "print(\"The\",str1,\"in reverse order is:\")\n",
    "length = len(str1)\n",
    "for a in range(-1,(-length-1),-1):\n",
    "    print(str1[a])\n",
    "    "
   ]
  },
  {
   "cell_type": "code",
   "execution_count": 5,
   "id": "ab682034",
   "metadata": {},
   "outputs": [
    {
     "name": "stdout",
     "output_type": "stream",
     "text": [
      "h \t t\n",
      "e \t n\n",
      "m \t a\n",
      "a \t m\n",
      "n \t e\n",
      "t \t h\n"
     ]
    }
   ],
   "source": [
    "#2 To read a string and display it in the form.\n",
    "str1 = input(\"Enter a string.\")\n",
    "length = len(str1)\n",
    "i = 0 \n",
    "for a in range(-1,(-length-1),-1):\n",
    "    print(str1[i],\"\\t\",str1[a])\n",
    "    i += 1\n",
    "    "
   ]
  },
  {
   "cell_type": "code",
   "execution_count": 8,
   "id": "93a6e638",
   "metadata": {},
   "outputs": [
    {
     "name": "stdout",
     "output_type": "stream",
     "text": [
      "not contains 0. 45465\n"
     ]
    }
   ],
   "source": [
    "#3 input an integers and check if it contains any 0 in it.\n",
    "n = int(input(\"Enter a string:\"))\n",
    "s = str(n)\n",
    "if '0' in s:\n",
    "    print(\"The number contains 0.\",n)\n",
    "else:\n",
    "    print(\"not contains 0.\",n)\n"
   ]
  },
  {
   "cell_type": "code",
   "execution_count": 9,
   "id": "d8792063",
   "metadata": {},
   "outputs": [
    {
     "name": "stdout",
     "output_type": "stream",
     "text": [
      "#\n",
      "##\n",
      "###\n",
      "####\n",
      "#####\n"
     ]
    }
   ],
   "source": [
    "#4  Program that print the following pattern without using any nested loop.\n",
    "str= '#'\n",
    "pattern = \"\"\n",
    "for i in range(5):\n",
    "    pattern += str\n",
    "    print(pattern)"
   ]
  },
  {
   "cell_type": "code",
   "execution_count": 12,
   "id": "7227a4f5",
   "metadata": {},
   "outputs": [
    {
     "name": "stdout",
     "output_type": "stream",
     "text": [
      "Original string: rin shagrin\n",
      "New string: rin shagRestore\n"
     ]
    }
   ],
   "source": [
    "#5 Input two string and create third string. \n",
    "str1 = input(\"Enter first string:\")\n",
    "str2 = input(\"Etner second string:\")\n",
    "print(\"Original string:\",str1,str2)\n",
    "if str1 in str2 :\n",
    "    str3 = str2[0:4] + \"Restore\"\n",
    "print(\"New string:\",str1,str3)"
   ]
  },
  {
   "cell_type": "code",
   "execution_count": 15,
   "id": "d742c27e",
   "metadata": {},
   "outputs": [
    {
     "name": "stdout",
     "output_type": "stream",
     "text": [
      "The string is palindrome. nitin\n"
     ]
    }
   ],
   "source": [
    "#6 check palindrome string using a string slice.\n",
    "s = input(\"Etner a string:\")\n",
    "if (s == s[::-1]):\n",
    "    print(\"The string is palindrome.\",s)\n",
    "else:\n",
    "    print(\"The string is not palindrome.\",s)\n",
    "    "
   ]
  },
  {
   "cell_type": "code",
   "execution_count": 6,
   "id": "81a60106",
   "metadata": {},
   "outputs": [
    {
     "name": "stdout",
     "output_type": "stream",
     "text": [
      "Lowercase letters: 11\n",
      "uppercase letters: 7\n",
      "digit characters: 3\n",
      "alpahabetic characters: 0\n",
      "symbolic characters: 1\n"
     ]
    }
   ],
   "source": [
    "#7 reads a line  print its statistics like \n",
    "line = input(\"enter a line :\")\n",
    "lowercount = uppercount = 0\n",
    "digitcount = alphacount = symcount = 0\n",
    "for a in line:\n",
    "    if a.islower():\n",
    "        lowercount += 1\n",
    "    elif a.isupper():\n",
    "        uppercount += 1\n",
    "    elif a.isdigit():\n",
    "        digitcount += 1\n",
    "    elif a.isalpha():\n",
    "        alphacount += 1\n",
    "    elif a.isalnum()!= True and a !=' ':\n",
    "        symcount += 1\n",
    "print(\"Lowercase letters:\", lowercount)\n",
    "print(\"uppercase letters:\", uppercount)\n",
    "print(\"digit characters:\", digitcount)\n",
    "print(\"alpahabetic characters:\", alphacount)\n",
    "print(\"symbolic characters:\", symcount)\n"
   ]
  },
  {
   "cell_type": "code",
   "execution_count": 1,
   "id": "65cc8ac2",
   "metadata": {},
   "outputs": [
    {
     "name": "stdout",
     "output_type": "stream",
     "text": [
      "Given string: 515.8059\n",
      "part after decimal 8059\n"
     ]
    }
   ],
   "source": [
    "# \n",
    "s= input(\"Enter a string (a decimal numbers)\")\n",
    "t = s.partition('.')\n",
    "print(\"Given string:\",s)\n",
    "print(\"part after decimal\",t[2])\n"
   ]
  },
  {
   "cell_type": "code",
   "execution_count": null,
   "id": "39f9b90a",
   "metadata": {},
   "outputs": [],
   "source": []
  }
 ],
 "metadata": {
  "kernelspec": {
   "display_name": "Python 3",
   "language": "python",
   "name": "python3"
  },
  "language_info": {
   "codemirror_mode": {
    "name": "ipython",
    "version": 3
   },
   "file_extension": ".py",
   "mimetype": "text/x-python",
   "name": "python",
   "nbconvert_exporter": "python",
   "pygments_lexer": "ipython3",
   "version": "3.13.7"
  }
 },
 "nbformat": 4,
 "nbformat_minor": 5
}
