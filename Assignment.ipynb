{
 "cells": [
  {
   "cell_type": "markdown",
   "id": "642b3098-cc05-4b43-adf6-f69481abcd4f",
   "metadata": {},
   "source": [
    "# Python Assignment\n"
   ]
  },
  {
   "cell_type": "code",
   "execution_count": 1,
   "id": "04d2914d-07cc-4c54-98df-31a7eecf9bad",
   "metadata": {},
   "outputs": [
    {
     "name": "stdout",
     "output_type": "stream",
     "text": [
      "First non-repeating character: w\n"
     ]
    }
   ],
   "source": [
    "# Q1: Find the first non-repeating character in a string\n",
    "s = \"Swiss\"\n",
    "for ch in s:\n",
    "    if s.lower().count(ch.lower()) == 1:\n",
    "        print(\"First non-repeating character:\", ch)\n",
    "        break"
   ]
  },
  {
   "cell_type": "code",
   "execution_count": 2,
   "id": "220c770c-d9b6-4e32-a44b-6d3508b30b28",
   "metadata": {},
   "outputs": [
    {
     "name": "stdout",
     "output_type": "stream",
     "text": [
      "String after removing duplicates: Progamin\n"
     ]
    }
   ],
   "source": [
    "# Q2: Remove all duplicate characters from a string\n",
    "s = \"Programming\"\n",
    "result = \"\"\n",
    "for ch in s:\n",
    "    if ch not in result:\n",
    "        result += ch\n",
    "print(\"String after removing duplicates:\", result)"
   ]
  },
  {
   "cell_type": "code",
   "execution_count": 3,
   "id": "26f76d3d-843e-46f8-8dc2-9f445a07ecca",
   "metadata": {},
   "outputs": [
    {
     "name": "stdout",
     "output_type": "stream",
     "text": [
      "Swapped case string: PlAcEmEnT\n"
     ]
    }
   ],
   "source": [
    "# Q3: Swap case without using swapcase()\n",
    "s = \"pLaCeMeNt\"\n",
    "result = \"\"\n",
    "for ch in s:\n",
    "    if ch.islower():\n",
    "        result += ch.upper()\n",
    "    else:\n",
    "        result += ch.lower()\n",
    "print(\"Swapped case string:\", result)"
   ]
  },
  {
   "cell_type": "code",
   "execution_count": 4,
   "id": "281912c6-8b66-4751-bc54-43105e8fbdcf",
   "metadata": {},
   "outputs": [
    {
     "name": "stdout",
     "output_type": "stream",
     "text": [
      "Tuple with unique elements: (1, 2, 3, 4, 5, 6)\n"
     ]
    }
   ],
   "source": [
    "# Q4: Create a new tuple with only unique elements\n",
    "t = (1, 2, 2, 3, 4, 4, 5, 6)\n",
    "unique_tuple = tuple(set(t))\n",
    "print(\"Tuple with unique elements:\", unique_tuple)"
   ]
  },
  {
   "cell_type": "code",
   "execution_count": 5,
   "id": "18428646-cb9b-4193-965e-4f79ab40cb41",
   "metadata": {},
   "outputs": [
    {
     "name": "stdout",
     "output_type": "stream",
     "text": [
      "Without spaces: Pythonisafunlanguage\n"
     ]
    }
   ],
   "source": [
    "# Q5: Remove spaces from string\n",
    "s = \"Python is a fun language\"\n",
    "print(\"Without spaces:\", s.replace(\" \", \"\"))"
   ]
  },
  {
   "cell_type": "code",
   "execution_count": 6,
   "id": "90c26e6b-91cc-4367-bfde-fd16ad3825f0",
   "metadata": {},
   "outputs": [
    {
     "name": "stdout",
     "output_type": "stream",
     "text": [
      "Reversed words: language fun a is Python\n"
     ]
    }
   ],
   "source": [
    "# Q6: Reverse order of words in string\n",
    "s = \"Python is a fun language\"\n",
    "words = s.split()\n",
    "rev = \" \".join(words[::-1])\n",
    "print(\"Reversed words:\", rev)"
   ]
  },
  {
   "cell_type": "code",
   "execution_count": 7,
   "id": "bf6f4912-385b-4396-a78e-99f4d13611b2",
   "metadata": {},
   "outputs": [
    {
     "name": "stdout",
     "output_type": "stream",
     "text": [
      "Even index characters: Pto\n",
      "Odd index characters: yhn\n",
      "Even index characters: Pto\n",
      "Odd index characters: yhn\n"
     ]
    }
   ],
   "source": [
    "# Q7: Print even and odd indexed characters (Method 1: Slicing)\n",
    "s = \"Python\"\n",
    "print(\"Even index characters:\", s[0::2])\n",
    "print(\"Odd index characters:\", s[1::2])\n",
    "\n",
    "# Q7: Using while loop\n",
    "i = 0\n",
    "even, odd = \"\", \"\"\n",
    "while i < len(s):\n",
    "    if i % 2 == 0:\n",
    "        even += s[i]\n",
    "    else:\n",
    "        odd += s[i]\n",
    "    i += 1\n",
    "print(\"Even index characters:\", even)\n",
    "print(\"Odd index characters:\", odd)"
   ]
  },
  {
   "cell_type": "code",
   "execution_count": 8,
   "id": "34960500-6136-4942-9fe6-21a79796f2ba",
   "metadata": {},
   "outputs": [
    {
     "name": "stdout",
     "output_type": "stream",
     "text": [
      "Number of words: 5\n"
     ]
    }
   ],
   "source": [
    "# Q8: Count number of words in string\n",
    "s = \"Python is a fun language\"\n",
    "count = len(s.split())\n",
    "print(\"Number of words:\", count)"
   ]
  },
  {
   "cell_type": "code",
   "execution_count": 10,
   "id": "2e704423-e747-488a-99c0-d52b999dbaf6",
   "metadata": {},
   "outputs": [
    {
     "name": "stdout",
     "output_type": "stream",
     "text": [
      "Cube of 1 is 1\n",
      "Cube of 2 is 8\n",
      "Cube of 3 is 27\n",
      "Cube of 4 is 64\n"
     ]
    }
   ],
   "source": [
    "# Q9: Print cube of all numbers from 1 to n\n",
    "n = 4\n",
    "for i in range(1, n + 1):\n",
    "    print(f\"Cube of {i} is {i**3}\")"
   ]
  },
  {
   "cell_type": "code",
   "execution_count": 11,
   "id": "dee258e0-7c6a-4118-bed2-bb361a2b4432",
   "metadata": {},
   "outputs": [
    {
     "name": "stdout",
     "output_type": "stream",
     "text": [
      "Tuple1 is greater because 445 > 442 at 3rd index.\n"
     ]
    }
   ],
   "source": [
    "# Q10: Compare two tuples and find which one is greater\n",
    "t1 = (2, 56, 445, 66.32, 9)\n",
    "t2 = (2, 56, 442, 52, 5)\n",
    "if t1 > t2:\n",
    "    print(\"Tuple1 is greater because 445 > 442 at 3rd index.\")\n",
    "elif t1 < t2:\n",
    "    print(\"Tuple2 is greater.\")\n",
    "else:\n",
    "    print(\"Both are equal.\")"
   ]
  },
  {
   "cell_type": "code",
   "execution_count": null,
   "id": "f5fac421-00d3-46dd-b2e7-e87b15ae591c",
   "metadata": {},
   "outputs": [],
   "source": []
  }
 ],
 "metadata": {
  "kernelspec": {
   "display_name": "Python 3 (ipykernel)",
   "language": "python",
   "name": "python3"
  },
  "language_info": {
   "codemirror_mode": {
    "name": "ipython",
    "version": 3
   },
   "file_extension": ".py",
   "mimetype": "text/x-python",
   "name": "python",
   "nbconvert_exporter": "python",
   "pygments_lexer": "ipython3",
   "version": "3.13.5"
  }
 },
 "nbformat": 4,
 "nbformat_minor": 5
}
