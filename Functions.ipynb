{
 "cells": [
  {
   "cell_type": "markdown",
   "id": "a7e5a015-0668-40f6-99cd-2b803c8c7d3c",
   "metadata": {},
   "source": [
    "# Working with Function\n"
   ]
  },
  {
   "cell_type": "code",
   "execution_count": 2,
   "id": "540a1f05-5019-4409-ae38-75fbfeabf53a",
   "metadata": {},
   "outputs": [
    {
     "name": "stdout",
     "output_type": "stream",
     "text": [
      "11\n"
     ]
    },
    {
     "name": "stdin",
     "output_type": "stream",
     "text": [
      "Enter first numbers 5\n",
      "Enter second numbers 6\n"
     ]
    },
    {
     "name": "stdout",
     "output_type": "stream",
     "text": [
      "Sum of the given numbers is 11.0\n"
     ]
    }
   ],
   "source": [
    "# program to add two numbers through a function.\n",
    "def calcsum (x,y):\n",
    "    s = x+y\n",
    "    return s\n",
    "print(calcsum(5,6))\n",
    "n1 = float(input(\"Enter first numbers\"))\n",
    "n2 = float(input(\"Enter second numbers\"))\n",
    "sum = calcsum(n1,n2)\n",
    "print(\"Sum of the given numbers is\",sum)"
   ]
  },
  {
   "cell_type": "code",
   "execution_count": 10,
   "id": "cb100cda-4635-46f9-9c17-2ac78d24a60c",
   "metadata": {},
   "outputs": [
    {
     "name": "stdin",
     "output_type": "stream",
     "text": [
      "Enter principal amount: 6700\n"
     ]
    },
    {
     "name": "stdout",
     "output_type": "stream",
     "text": [
      "Simple interest with default ROI and time values is:\n",
      "Rs. 1340.0\n"
     ]
    },
    {
     "name": "stdin",
     "output_type": "stream",
     "text": [
      "Enter rate of interest (ROI) 8\n",
      "Enter time in years: 3\n"
     ]
    },
    {
     "name": "stdout",
     "output_type": "stream",
     "text": [
      "Simple interest with your provided ROI and time values is:\n",
      "Rs. 1608.0\n"
     ]
    }
   ],
   "source": [
    "#2\n",
    "def interest(principal,time=2,rate = 0.10):\n",
    "    return principal * rate * time\n",
    "interest(2)\n",
    "#_main__\n",
    "prin = float(input(\"Enter principal amount:\"))\n",
    "print(\"Simple interest with default ROI and time values is:\")\n",
    "si1 = interest(prin)\n",
    "print(\"Rs.\",si1)\n",
    "roi = float(input(\"Enter rate of interest (ROI)\"))\n",
    "time = int(input(\"Enter time in years:\"))\n",
    "print(\"Simple interest with your provided ROI and time values is:\")\n",
    "si2 = interest(prin,time,roi/100)\n",
    "print(\"Rs.\",si2)"
   ]
  },
  {
   "cell_type": "code",
   "execution_count": 18,
   "id": "3ccb8655-3936-48a1-bf1f-4077fb8bc012",
   "metadata": {},
   "outputs": [
    {
     "name": "stdin",
     "output_type": "stream",
     "text": [
      "Enter no. 1: 13\n",
      "Enter no. 2: 7\n"
     ]
    },
    {
     "name": "stdout",
     "output_type": "stream",
     "text": [
      "Sum of the given numbers: 20\n",
      "Subtraction of the given numbers: 6\n",
      "Product of the given numbers: 91\n",
      "Divsion of the given numbers: 1.8571428571428572\n",
      "Modulus of the given numbers: 6\n"
     ]
    }
   ],
   "source": [
    "#3\n",
    "def arcalc(x,y):\n",
    "    return x+y,x-y,x*y,x/y,x%y\n",
    "arcalc(2,5)\n",
    "#__main__\n",
    "n1 = int(input(\"Enter no. 1:\"))\n",
    "n2 = int(input(\"Enter no. 2:\"))\n",
    "add,sub,mult,div,mod= arcalc(n1,n2)\n",
    "print(\"Sum of the given numbers:\",add)\n",
    "print(\"Subtraction of the given numbers:\",sub)\n",
    "print(\"Product of the given numbers:\",mult)\n",
    "print(\"Divsion of the given numbers:\",div)\n",
    "print(\"Modulus of the given numbers:\",mod)\n"
   ]
  },
  {
   "cell_type": "code",
   "execution_count": 1,
   "id": "4b0e2b7b-24cb-405b-8764-cc544ea7f308",
   "metadata": {},
   "outputs": [
    {
     "name": "stdout",
     "output_type": "stream",
     "text": [
      "5#8#5#4#"
     ]
    }
   ],
   "source": [
    "def changeval(M,N):\n",
    "    for i in range(N):\n",
    "        if M[i]%5 == 0:\n",
    "            M[i] //= 5\n",
    "        if M[i]%3 == 0:\n",
    "            M[i] //= 3\n",
    "L=[25,8,75,12]\n",
    "changeval(L,4)\n",
    "for i in L:\n",
    "    print(i,end = '#')"
   ]
  },
  {
   "cell_type": "code",
   "execution_count": null,
   "id": "1fbfd5ee-347e-44f5-a3dd-1b6d16842b07",
   "metadata": {},
   "outputs": [],
   "source": []
  }
 ],
 "metadata": {
  "kernelspec": {
   "display_name": "Python 3 (ipykernel)",
   "language": "python",
   "name": "python3"
  },
  "language_info": {
   "codemirror_mode": {
    "name": "ipython",
    "version": 3
   },
   "file_extension": ".py",
   "mimetype": "text/x-python",
   "name": "python",
   "nbconvert_exporter": "python",
   "pygments_lexer": "ipython3",
   "version": "3.13.5"
  }
 },
 "nbformat": 4,
 "nbformat_minor": 5
}
