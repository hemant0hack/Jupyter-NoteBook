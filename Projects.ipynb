{
 "cells": [
  {
   "cell_type": "markdown",
   "id": "6687f8d0-3244-4720-b6a2-582b34133752",
   "metadata": {},
   "source": [
    "# Python Projects...\n"
   ]
  },
  {
   "cell_type": "code",
   "execution_count": 58,
   "id": "911e47fb-2d4e-4179-a811-f5542e6a8cbd",
   "metadata": {},
   "outputs": [
    {
     "name": "stdin",
     "output_type": "stream",
     "text": [
      "Enter value a: 2\n",
      "Enter value b: 2\n"
     ]
    },
    {
     "name": "stdout",
     "output_type": "stream",
     "text": [
      "1.Addition\n",
      "2.Subtraction\n",
      "3.multiplication\n",
      "4.Division\n"
     ]
    },
    {
     "name": "stdin",
     "output_type": "stream",
     "text": [
      "Enter operation Number: 9\n"
     ]
    },
    {
     "name": "stdout",
     "output_type": "stream",
     "text": [
      "Invalid Operations!\n",
      "\n"
     ]
    }
   ],
   "source": [
    "# Calculator.\n",
    "a = float(input(\"Enter value a:\"))\n",
    "b = float(input(\"Enter value b:\"))\n",
    "print(\"1.Addition\\n2.Subtraction\\n3.multiplication\\n4.Division\\n5.(a+b)**2\\n6.(a-b)**2\\n7.(a**2-b**2\"\\n8.(a))\n",
    "ch = input(\"Enter operation Number:\")\n",
    "ans = \"\"\n",
    "if ch == \"1\":\n",
    "    ans = a+b\n",
    "elif ch == \"2\":\n",
    "    ans = a-b\n",
    "elif ch == \"3\":\n",
    "    ans = a*b\n",
    "elif ch == \"4\":\n",
    "    ans = a/b\n",
    "elif ch == \"5\":\n",
    "    ans = (a+b)**2\n",
    "elif ch == \"6\":\n",
    "    ans = (a-b)**2\n",
    "elif ch == \"7\":\n",
    "    ans = (a**2-b**2)\n",
    "elif ch == \"8\":\n",
    "    ans = (a-b)**3    \n",
    "else :\n",
    "    print(\"Invalid Operations!\")\n",
    "print(ans)"
   ]
  },
  {
   "cell_type": "code",
   "execution_count": null,
   "id": "ca1a7a13-0082-4e1f-a9f4-cfab390cae74",
   "metadata": {},
   "outputs": [],
   "source": []
  },
  {
   "cell_type": "code",
   "execution_count": null,
   "id": "cef3cf0a-8b03-45e3-9d32-fe2284beb850",
   "metadata": {},
   "outputs": [],
   "source": []
  }
 ],
 "metadata": {
  "kernelspec": {
   "display_name": "Python 3 (ipykernel)",
   "language": "python",
   "name": "python3"
  },
  "language_info": {
   "codemirror_mode": {
    "name": "ipython",
    "version": 3
   },
   "file_extension": ".py",
   "mimetype": "text/x-python",
   "name": "python",
   "nbconvert_exporter": "python",
   "pygments_lexer": "ipython3",
   "version": "3.13.5"
  }
 },
 "nbformat": 4,
 "nbformat_minor": 5
}
