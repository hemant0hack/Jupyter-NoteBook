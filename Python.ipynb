{
 "cells": [
  {
   "cell_type": "markdown",
   "id": "b1f90f9a",
   "metadata": {},
   "source": [
    "#Python"
   ]
  },
  {
   "cell_type": "markdown",
   "id": "3fecaea3",
   "metadata": {},
   "source": [
    "python programs from XI python\n"
   ]
  },
  {
   "cell_type": "code",
   "execution_count": null,
   "id": "502e135a",
   "metadata": {},
   "outputs": [
    {
     "name": "stdout",
     "output_type": "stream",
     "text": [
      "Hello, I'm Hemant Rathore now i'm start learning python.\n"
     ]
    }
   ],
   "source": [
    "#1Write a programme to input a welcome message and print it\n",
    "message=input(\"Enter welcome message: \")\n",
    "print(\"Hello,\", message)"
   ]
  },
  {
   "cell_type": "code",
   "execution_count": null,
   "id": "e7e9dab1",
   "metadata": {},
   "outputs": [
    {
     "name": "stdout",
     "output_type": "stream",
     "text": [
      "The sum of the three numbers are:  2 4 6\n",
      "The sum of the three numbers is: 12\n"
     ]
    }
   ],
   "source": [
    "#2programme to obtain three numbers and print their sum.\n",
    "num1 = int(input(\"Enter first number: \"))\n",
    "num2 = int(input(\"Enter second number: \"))\n",
    "num3 = int(input(\"Enter third number: \"))\n",
    "sum = num1 + num2 + num3\n",
    "print(\"The sum of the three numbers are: \",num1,num2,num3)\n",
    "print(\"The sum of the three numbers is:\", sum)"
   ]
  },
  {
   "cell_type": "code",
   "execution_count": null,
   "id": "46963d90",
   "metadata": {},
   "outputs": [
    {
     "name": "stdout",
     "output_type": "stream",
     "text": [
      "Reactangle specification: Length is 2.5 Breadth is 3.5\n",
      "Area of rectangle 8.75\n"
     ]
    }
   ],
   "source": [
    "#3programme to obtain Length and breath of rectangle and print its area.\n",
    "length = float(input(\"Enter length of the rectangle:\"))\n",
    "breadth = float(input(\"Enter breadth of the rectangle:\"))\n",
    "area = length*breadth\n",
    "\n",
    "print(\"Reactangle specification: Length is\",length, \"Breadth is\",breadth)\n",
    "print(\"Area of rectangle\",area)\n"
   ]
  },
  {
   "cell_type": "code",
   "execution_count": null,
   "id": "a9ca9c49",
   "metadata": {},
   "outputs": [
    {
     "name": "stdout",
     "output_type": "stream",
     "text": [
      "Person weigth and heigth is 67.8 , 1.68\n",
      "BMI is: 24.022108843537417\n"
     ]
    }
   ],
   "source": [
    "#4programme to calculate BMI of a person.\n",
    "weigth = float(input(\"Enter weight in KG:\"))\n",
    "heigth = float(input(\"Enter heigth in Meter\"))\n",
    "\n",
    "bmi = weigth/(heigth*heigth)\n",
    "print(\"Person weigth and heigth is\",weigth,\",\",heigth)\n",
    "print(\"BMI is:\",bmi)\n"
   ]
  },
  {
   "cell_type": "code",
   "execution_count": null,
   "id": "68af7973",
   "metadata": {},
   "outputs": [
    {
     "name": "stdout",
     "output_type": "stream",
     "text": [
      "Number is : 5\n",
      "Cube is: 125\n"
     ]
    }
   ],
   "source": [
    "#5Write a programme to input a number and print its cube.\n",
    "num = int(input(\"Enter a Number:\"))\n",
    "cube = num*num*num\n",
    "print(\"Number is :\",num)\n",
    "print(\"Cube is:\",cube)"
   ]
  },
  {
   "cell_type": "code",
   "execution_count": null,
   "id": "115e1d36",
   "metadata": {},
   "outputs": [
    {
     "name": "stdout",
     "output_type": "stream",
     "text": [
      "Kilometers : 59\n",
      "Miles: 36.660889\n"
     ]
    }
   ],
   "source": [
    "#6 write a program to input a vlaue in kilometer and convert it into miles (1Km = 0.621371 miles).\n",
    "km = int(input(\"enter kilometers:\"))\n",
    "miles = km*0.621371\n",
    "print(\"Kilometers :\",km)\n",
    "print(\"Miles:\",miles)"
   ]
  },
  {
   "cell_type": "code",
   "execution_count": null,
   "id": "52487b48",
   "metadata": {},
   "outputs": [
    {
     "name": "stdout",
     "output_type": "stream",
     "text": [
      "Tonnes : 1.0\n",
      "Quintals : 10.0\n",
      "Kilograms : 1000.0\n"
     ]
    }
   ],
   "source": [
    "#7WAP tonnes convert into quintals and kilograms.\n",
    "tonnes = float(input(\"Enter tonnes:\"))\n",
    "quintals = tonnes * 10\n",
    "kgs = quintals * 100\n",
    "print(\"Tonnes :\",tonnes)\n",
    "print(\"Quintals :\",quintals)\n",
    "print(\"Kilograms :\",kgs)\n"
   ]
  },
  {
   "cell_type": "code",
   "execution_count": null,
   "id": "c8f8123f",
   "metadata": {},
   "outputs": [
    {
     "name": "stdout",
     "output_type": "stream",
     "text": [
      "The poem you entered\n",
      "------------------------\n"
     ]
    }
   ],
   "source": [
    "#8WAP Enter a small poem or poem verse.\n",
    "poem = input(\"Enter a small poem :\")\n",
    "print(\"The poem you entered\")\n",
    "print(poem)"
   ]
  },
  {
   "cell_type": "code",
   "execution_count": null,
   "id": "e6816644",
   "metadata": {},
   "outputs": [
    {
     "name": "stdout",
     "output_type": "stream",
     "text": [
      " Original numbers : 1 6\n",
      "After sweping : 6 1\n"
     ]
    }
   ],
   "source": [
    "#9WAP two nuumber and swep them.\n",
    "n1= int(input(\"Enter a first number :\"))\n",
    "n2 = int(input(\"Enter a second number:\"))\n",
    "print(\" Original numbers :\",n1, n2)\n",
    "n1, n2 = n2, n1\n",
    "print(\"After sweping :\",n1, n2)"
   ]
  },
  {
   "cell_type": "code",
   "execution_count": null,
   "id": "9f8f1530",
   "metadata": {},
   "outputs": [
    {
     "name": "stdout",
     "output_type": "stream",
     "text": [
      "Original numbers: 2 3 6\n",
      "After swapping : 3 6 2\n"
     ]
    }
   ],
   "source": [
    "#10WAP three numbers swep by next number.\n",
    "x = int(input(\"Enter number 1: \"))\n",
    "y =  int(input(\"Enter number 2:\"))\n",
    "z = int(input(\"Enter number 3:\"))\n",
    "print(\"Original numbers:\",x,y,z)\n",
    "x,y,z = y,z,x\n",
    "print(\"After swapping :\",x,y,z)\n"
   ]
  },
  {
   "cell_type": "code",
   "execution_count": null,
   "id": "caa02876",
   "metadata": {},
   "outputs": [
    {
     "name": "stdout",
     "output_type": "stream",
     "text": [
      "Numbers are: 7 3 5\n",
      "Sum = 10\n",
      "Difference =  4\n",
      "Product = 21\n",
      "Division = 2.3333333333333335\n",
      "Modulus = 1\n",
      "Average = 5.0\n"
     ]
    }
   ],
   "source": [
    "#11 Write a programme to enter two integers amd perform all arithmetc opertaions on them.\n",
    "x = int(input(\"Enter a number 1:\"))\n",
    "y = int(input(\"Enter number 2 :\"))\n",
    "z = int(input(\"Enter number 3:\"))\n",
    "sum = x+y\n",
    "diff = x-y\n",
    "mul = x*y\n",
    "div = x/y\n",
    "mod = x%y\n",
    "avg = (x+y+z)/3\n",
    "print(\"Numbers are:\",x,y,z)\n",
    "print(\"Sum =\",sum)\n",
    "print(\"Difference = \",diff)\n",
    "print(\"Product =\",mul)\n",
    "print(\"Division =\",div)\n",
    "print(\"Modulus =\",mod)\n",
    "print(\"Average =\",avg)"
   ]
  },
  {
   "cell_type": "code",
   "execution_count": null,
   "id": "3cf45059",
   "metadata": {},
   "outputs": [
    {
     "name": "stdout",
     "output_type": "stream",
     "text": [
      "Radius of the sphere : 7.5 meters\n",
      "Area of the Sphere: 176.71458676442586 units sq.\n",
      "Volume of the sphere: 5301.437602932776 units cube\n"
     ]
    }
   ],
   "source": [
    "#12 The radius of a sphere is 7.5 metres and Calculate its area and volume.\n",
    "import math\n",
    "r = float(input(\"Enter a radius of the sphere:\"))\n",
    "area = math.pi * r**2\n",
    "volume = 4 * math.pi * math.pow(r,3) \n",
    "print(\"Radius of the sphere :\",r,\"meters\")\n",
    "print(\"Area of the Sphere:\",area ,\"units sq.\")\n",
    "print(\"Volume of the sphere:\",volume,\"units cube\")"
   ]
  },
  {
   "cell_type": "code",
   "execution_count": null,
   "id": "a17169f8",
   "metadata": {},
   "outputs": [
    {
     "name": "stdout",
     "output_type": "stream",
     "text": [
      "9.60831958881877\n",
      "0.9489113678362877\n"
     ]
    }
   ],
   "source": [
    "#13 Write a programme to input random number 0 to 100\n",
    "import random\n",
    "print(random.random()*100)\n",
    "print(random.random())"
   ]
  },
  {
   "cell_type": "code",
   "execution_count": null,
   "id": "e535343e",
   "metadata": {},
   "outputs": [
    {
     "name": "stdout",
     "output_type": "stream",
     "text": [
      "Random integers in the range 450 to 950 : 247 126\n",
      "Their average : 186.5\n"
     ]
    }
   ],
   "source": [
    "#14 Write a code Generate to random integer between 450 and 950\n",
    "import random\n",
    "num1 = random.randint(450,950)-450\n",
    "num2 = random.randint(450,950)-450\n",
    "avg = (num1+num2)/2\n",
    "print(\"Random integers in the range 450 to 950 :\",num1 ,num2)\n",
    "print(\"Their average :\",avg)"
   ]
  },
  {
   "cell_type": "code",
   "execution_count": null,
   "id": "f2f83ce9",
   "metadata": {},
   "outputs": [
    {
     "name": "stdout",
     "output_type": "stream",
     "text": [
      "Random integers in the range 10 to 70, step-value 13: 49 23 49\n",
      "Set created {49, 23}\n"
     ]
    }
   ],
   "source": [
    "#15 Write a code to generate three random integer in the range 10,70 with a step of 13.\n",
    "import random\n",
    "num1 = random.randrange(10,70,13)\n",
    "num2 = random.randrange(10,70,13)\n",
    "num3 = random.randrange(10,70,13)\n",
    "set1 = {num1,num2,num3}\n",
    "print(\"Random integers in the range 10 to 70, step-value 13:\",num1,num2,num3)\n",
    "print(\"Set created\", set1)"
   ]
  },
  {
   "cell_type": "code",
   "execution_count": null,
   "id": "41d9f4fe",
   "metadata": {},
   "outputs": [
    {
     "name": "stdout",
     "output_type": "stream",
     "text": [
      "Given list [22, 13, 28, 13, 22, 25, 7, 13, 25]\n",
      "Mean: 18.666666666666668\n",
      "median: 22\n",
      "Mode: 13\n"
     ]
    }
   ],
   "source": [
    "#16 Given a list containing these values [22,13,28,13,22,25,7,13,25]. write a code to calculate mean, median and mode of this list.\n",
    "import statistics as stat\n",
    "list1 = [22,13,28,13,22,25,7,13,25]\n",
    "list_mean = stat.mean(list1)\n",
    "list_median = stat.median(list1)\n",
    "list_mode = stat.mode(list1)\n",
    "print(\"Given list\",list1)\n",
    "print(\"Mean:\",list_mean)\n",
    "print(\"median:\",list_median)\n",
    "print(\"Mode:\",list_mode)\n"
   ]
  },
  {
   "cell_type": "code",
   "execution_count": 2,
   "id": "426f2448",
   "metadata": {},
   "outputs": [
    {
     "name": "stdout",
     "output_type": "stream",
     "text": [
      "4 is EVEN number.\n"
     ]
    }
   ],
   "source": [
    "#17 programme To take a number and check Even or odd.\n",
    "num = int(input(\"Enter a integer:\"))\n",
    "if num % 2 ==0:\n",
    "    print(num,\"is EVEN number.\")\n",
    "else :\n",
    "    print(num,\"is ODD number.\")"
   ]
  },
  {
   "cell_type": "code",
   "execution_count": 9,
   "id": "bb480802",
   "metadata": {},
   "outputs": [
    {
     "name": "stdout",
     "output_type": "stream",
     "text": [
      "Numbers are 3 2 3\n",
      "sum of three given numbers is 8\n",
      "sum of non-duplicate numbers is 2\n"
     ]
    }
   ],
   "source": [
    "#18 programme that  inputs three numbers and calculate two sums as for this.\n",
    "sum1 = sum2 = 0\n",
    "num1 = int(input(\"Enter number 1:\"))\n",
    "num2 = int(input(\"Enter number 2:\"))\n",
    "num3 = int(input(\"Enter number 3:\"))\n",
    "\n",
    "sum1 = num1 + num2 +num3\n",
    "if num1 != num2 and num1 != num3:\n",
    "    sum2 += num1\n",
    "if num2 != num1 and num2 !=num3:\n",
    "    sum2 += num2\n",
    "if num3 != num1 and num3 !=num2:\n",
    "    sum2 += num3\n",
    "print(\"Numbers are\",num1,num2,num3)\n",
    "print(\"sum of three given numbers is\",sum1)\n",
    "print(\"sum of non-duplicate numbers is\",sum2)"
   ]
  },
  {
   "cell_type": "code",
   "execution_count": 12,
   "id": "e6261347",
   "metadata": {},
   "outputs": [
    {
     "name": "stdout",
     "output_type": "stream",
     "text": [
      "10 is divisible by 5\n"
     ]
    }
   ],
   "source": [
    "#19  programme to test the divisibility of number with another number(If a number is divisible by another number).\n",
    "num1 = int(input(\"Enter number 1:\"))\n",
    "num2 = int(input(\"Enter number 2:\"))\n",
    "remainder = num1%num2\n",
    "if remainder ==0:\n",
    "    print(num1,\"is divisible by\",num2)\n",
    "else:\n",
    "    print(num1,\"is not divisible by \",num2)"
   ]
  },
  {
   "cell_type": "code",
   "execution_count": 16,
   "id": "43a6d29c",
   "metadata": {},
   "outputs": [
    {
     "name": "stdout",
     "output_type": "stream",
     "text": [
      "1.Calculate Area.\n",
      "2.Calculate Perimeter.\n",
      "Perimeter of the circle with radius 2.5 is 15.707963267948966\n"
     ]
    }
   ],
   "source": [
    "#20 program to display a menu for calculating area of a circle or parameter of a circle.\n",
    "import math\n",
    "radius = float(input(\"Enter radius of the circle:\"))\n",
    "print(\"1.Calculate Area.\")\n",
    "print(\"2.Calculate Perimeter.\")\n",
    "ch = int(input(\"Etner your choice (1 or 2):\"))\n",
    "if ch ==1:\n",
    "    area = math.pi * radius * radius\n",
    "    print(\"Area of the circle with radius \",radius ,\"is\",area)\n",
    "else :\n",
    "    perm = 2* math.pi * radius\n",
    "    print(\"Perimeter of the circle with radius\",radius,\"is\",perm)\n"
   ]
  },
  {
   "cell_type": "code",
   "execution_count": 18,
   "id": "5aae6c64",
   "metadata": {},
   "outputs": [
    {
     "name": "stdout",
     "output_type": "stream",
     "text": [
      "5.0 - 2.0 = 3.0\n"
     ]
    }
   ],
   "source": [
    "#21 programme that reads two numbers and an arithmetic operator and display the computed result.(Calculator).\n",
    "num1 = float(input(\"enter number 1:\"))\n",
    "num2 = float(input(\"enter number 2:\"))\n",
    "op = input(\"enter what operation[+,-,*,/,%]\")\n",
    "result = 0\n",
    "if op =='+':\n",
    "    result= num1+num2\n",
    "elif op == '-':\n",
    "    result= num1-num2\n",
    "elif op =='*':\n",
    "    result=num1*num2\n",
    "elif op =='/':\n",
    "    result=num1/num2\n",
    "elif op =='%':\n",
    "    result= num1%num2\n",
    "else :\n",
    "    print(\"Invalid operator!!\")\n",
    "print(num1,op,num2,'=',result)\n"
   ]
  },
  {
   "cell_type": "code",
   "execution_count": 4,
   "id": "ffd88286",
   "metadata": {},
   "outputs": [
    {
     "name": "stdout",
     "output_type": "stream",
     "text": [
      "8 x 1 = 8\n",
      "8 x 2 = 16\n",
      "8 x 3 = 24\n",
      "8 x 4 = 32\n",
      "8 x 5 = 40\n",
      "8 x 6 = 48\n",
      "8 x 7 = 56\n",
      "8 x 8 = 64\n",
      "8 x 9 = 72\n",
      "8 x 10 = 80\n"
     ]
    }
   ],
   "source": [
    "#22 programme to print table of a number \n",
    "num = int(input(\"Enter a number of table you want to print:\"))\n",
    "for a in range(1,11):\n",
    "    print(num,'x',a,'=',num*a)"
   ]
  },
  {
   "cell_type": "code",
   "execution_count": null,
   "id": "dacca489",
   "metadata": {},
   "outputs": [
    {
     "name": "stdout",
     "output_type": "stream",
     "text": [
      "Sum of the natural numbers <= 7 is 28\n"
     ]
    }
   ],
   "source": [
    "#23 programme to print sum of natural number between 1 to 7\n",
    "sum = 0 \n",
    "for n in range(1,8):\n",
    "    sum +=n\n",
    "print(\"Sum of the natural numbers <=\",n,'is',sum)"
   ]
  },
  {
   "cell_type": "code",
   "execution_count": 12,
   "id": "6eb6253f",
   "metadata": {},
   "outputs": [
    {
     "name": "stdout",
     "output_type": "stream",
     "text": [
      "The factorial of 9 is 362880\n"
     ]
    }
   ],
   "source": [
    "#24 programme to calculate the factorial of a number.\n",
    "num = int(input(\"Enter a number:\"))\n",
    "fact = 1\n",
    "a = 1\n",
    "while a <= num:\n",
    "    fact *= a\n",
    "    a += 1\n",
    "print(\"The factorial of\",num,\"is\",fact)"
   ]
  },
  {
   "cell_type": "code",
   "execution_count": null,
   "id": "e00272ea",
   "metadata": {},
   "outputs": [
    {
     "name": "stdout",
     "output_type": "stream",
     "text": [
      "The sum of even integers is 6\n",
      "The sum of odd integers is 9\n"
     ]
    }
   ],
   "source": [
    "#25 programme to calculate and print the sums of even and odd integer of the first n natural numbers.------------------------------------------------\n",
    "n = int(input(\"up to which natural number:\"))\n",
    "ctr = 1\n",
    "sum_even = sum_odd = 0\n",
    "while ctr<= n :\n",
    "    if ctr%2 == 0:\n",
    "        sum_even += ctr\n",
    "    else :\n",
    "        sum_odd += ctr\n",
    "    ctr +=1\n",
    "print(\"The sum of even integers is\",sum_even)\n",
    "print(\"The sum of odd integers is\",sum_odd)"
   ]
  },
  {
   "cell_type": "code",
   "execution_count": null,
   "id": "c0af1a4b",
   "metadata": {},
   "outputs": [
    {
     "name": "stdout",
     "output_type": "stream",
     "text": [
      "YOU WIN!!:) 3\n"
     ]
    }
   ],
   "source": [
    "#26 programme to implement 'guess the number' game.\n",
    "import random\n",
    "num = random.randint(10,50)\n",
    "ctr = 0 \n",
    "while ctr<5:\n",
    "    guess = int(input(\"Guess the number in range(10,50)\"))\n",
    "    if guess == num:\n",
    "        print(\"YOU WIN!!:)\",num)\n",
    "        break\n",
    "    else:\n",
    "        ctr +=1\n",
    "if not ctr < 5:\n",
    "    print(\"YOU LOSE :(\\n The nmmber was\",num)"
   ]
  },
  {
   "cell_type": "code",
   "execution_count": 23,
   "id": "2e529ac4",
   "metadata": {},
   "outputs": [
    {
     "name": "stdout",
     "output_type": "stream",
     "text": [
      "The loop with 'break' produces output as:\n",
      "1\n",
      "2\n",
      "The loop with'continue' produces ouput as:\n",
      "1\n",
      "2\n",
      "4\n",
      "5\n",
      "7\n",
      "8\n",
      "10\n"
     ]
    }
   ],
   "source": [
    "#27 programme to illustrate the difference between break and continuous statement.\n",
    "print(\"The loop with 'break' produces output as:\")\n",
    "for i in range(1,11):\n",
    "    if i%3 == 0:\n",
    "        break \n",
    "    else :\n",
    "        print(i)\n",
    "print(\"The loop with'continue' produces ouput as:\")\n",
    "for i in range(1,11):\n",
    "    if i%3 == 0:\n",
    "        continue\n",
    "    else:\n",
    "        print(i)\n",
    "    "
   ]
  },
  {
   "cell_type": "code",
   "execution_count": 1,
   "id": "ab076d10",
   "metadata": {},
   "outputs": [
    {
     "name": "stdout",
     "output_type": "stream",
     "text": [
      "You entered  3 numbers os far .\n",
      "Sum of numbers entered is 12\n"
     ]
    }
   ],
   "source": [
    "#28 programme to inputs some numbers Repeatedly and print their sum,\n",
    "#The programme ends when the user says no more to enter normal termination or programme abort when the number enter is less than the 0.\n",
    "count = sum = 0\n",
    "ans ='y'\n",
    "while ans == 'y' :\n",
    "    num = int(input(\"Enter number:\"))\n",
    "    if num < 0 :\n",
    "        print(\"Number entered is below to zero. Aborting!\")\n",
    "        break\n",
    "    sum = sum + num\n",
    "    count = count +1\n",
    "    ans = input(\"Want to enter more numbers?(y/n...)\")\n",
    "else :\n",
    "    print(\"You entered \",count,\"numbers os far .\")\n",
    "print(\"Sum of numbers entered is\",sum)"
   ]
  },
  {
   "cell_type": "code",
   "execution_count": 7,
   "id": "7d9db102",
   "metadata": {},
   "outputs": [
    {
     "name": "stdout",
     "output_type": "stream",
     "text": [
      "49 is not prime number\n"
     ]
    }
   ],
   "source": [
    "#29 programme to input a number and test if it is a prime number.\n",
    "num = int(input(\"Enter number:\"))\n",
    "lim = int(num/2)+1\n",
    "for i in range(2,lim):\n",
    "    rem = num % i\n",
    "    if rem == 0:\n",
    "        print(num,\"is not prime number\")\n",
    "        break\n",
    "else :\n",
    "    print(num,\"is prime number\")\n"
   ]
  },
  {
   "cell_type": "code",
   "execution_count": 1,
   "id": "bfd13fb3",
   "metadata": {},
   "outputs": [
    {
     "name": "stdout",
     "output_type": "stream",
     "text": [
      "Found a factor( 3 )for 15\n",
      "Found a factor( 2 )for 16\n",
      "17 is a prime number\n",
      "Found a factor( 2 )for 18\n",
      "19 is a prime number\n",
      "Found a factor( 2 )for 20\n",
      "Found a factor( 3 )for 21\n",
      "Found a factor( 2 )for 22\n",
      "23 is a prime number\n",
      "Found a factor( 2 )for 24\n"
     ]
    }
   ],
   "source": [
    "#30 programme that search for prime number from 15th through 25.\n",
    "for num in range(15,25):\n",
    "    for i in range(2,num):\n",
    "        if num % i == 0:\n",
    "            j = num/i\n",
    "            print(\"Found a factor(\",i,\")for\",num)\n",
    "            break\n",
    "    else :\n",
    "         print(num,\"is a prime number\")"
   ]
  },
  {
   "cell_type": "code",
   "execution_count": 2,
   "id": "61e01843",
   "metadata": {},
   "outputs": [
    {
     "name": "stdout",
     "output_type": "stream",
     "text": [
      "The largest number is: 66.0\n"
     ]
    }
   ],
   "source": [
    "#31 three number and display the largest / the smallest.\n",
    "num1 = float(input(\"Enter first number: \"))\n",
    "num2 = float(input(\"Enter second number: \"))\n",
    "num3 = float(input(\"Enter third number: \"))\n",
    "\n",
    "if (num1 > num2) and (num1 > num3):\n",
    "    largest = num1\n",
    "elif (num2 > num1)and (num2>num3):\n",
    "    largest=num2\n",
    "else:\n",
    "    largest =num3\n",
    "print(\"The largest number is:\", largest)"
   ]
  },
  {
   "cell_type": "code",
   "execution_count": 6,
   "id": "c2c483a0",
   "metadata": {},
   "outputs": [
    {
     "name": "stdout",
     "output_type": "stream",
     "text": [
      "Your guess is too high.\n",
      "Your guess is too low. Try again.\n",
      "Your guess is too low. Try again.\n",
      "Your guess is too low. Try again.\n",
      "Your guess is too low. Try again.\n",
      "Your guess is too low. Try again.\n",
      "Your guess is too high.\n",
      "Your guess is too high.\n",
      "Your guess is too high.\n",
      "Your guess is too high.\n",
      "Your guess is too low. Try again.\n",
      "Your guess is too high.\n",
      "Your guess is too low. Try again.\n",
      "Your guess is too high.\n",
      "Your guess is too high.\n",
      "Your guess is too high.\n",
      "Your guess is too low. Try again.\n",
      "Your guess is too low. Try again.\n",
      "Your guess is too low. Try again.\n",
      "Your guess is too high.\n",
      "Your guess is too high.\n",
      "Your guess is too high.\n",
      "Your guess is too low. Try again.\n",
      "Your guess is too low. Try again.\n",
      "Your guess is too low. Try again.\n",
      "Your guess is too low. Try again.\n",
      "Your guess is too low. Try again.\n"
     ]
    },
    {
     "ename": "ValueError",
     "evalue": "invalid literal for int() with base 10: '.75'",
     "output_type": "error",
     "traceback": [
      "\u001b[31m---------------------------------------------------------------------------\u001b[39m",
      "\u001b[31mValueError\u001b[39m                                Traceback (most recent call last)",
      "\u001b[36mCell\u001b[39m\u001b[36m \u001b[39m\u001b[32mIn[6]\u001b[39m\u001b[32m, line 10\u001b[39m\n\u001b[32m      8\u001b[39m     \u001b[38;5;28;01melse\u001b[39;00m:\n\u001b[32m      9\u001b[39m         \u001b[38;5;28mprint\u001b[39m(\u001b[33m\"\u001b[39m\u001b[33mYour guess is too high.\u001b[39m\u001b[33m\"\u001b[39m)\n\u001b[32m---> \u001b[39m\u001b[32m10\u001b[39m     guessNum = \u001b[38;5;28;43mint\u001b[39;49m\u001b[43m(\u001b[49m\u001b[38;5;28;43minput\u001b[39;49m\u001b[43m(\u001b[49m\u001b[33;43m\"\u001b[39;49m\u001b[33;43mGuess a number btw 1 and 100: \u001b[39;49m\u001b[33;43m\"\u001b[39;49m\u001b[43m)\u001b[49m\u001b[43m)\u001b[49m\n\u001b[32m     11\u001b[39m \u001b[38;5;28mprint\u001b[39m(\u001b[33m\"\u001b[39m\u001b[33mCongratulations! You guessed the number:\u001b[39m\u001b[33m\"\u001b[39m, secretnum)\n",
      "\u001b[31mValueError\u001b[39m: invalid literal for int() with base 10: '.75'"
     ]
    }
   ],
   "source": [
    "#32 Number guessing game.\n",
    "import random\n",
    "secretnum = random.randint(1, 100)\n",
    "guessNum = int(input(\"Guess a number btw 1 and 100.\"))\n",
    "while guessNum != secretnum :\n",
    "    if guessNum < secretnum :\n",
    "        print(\"Your guess is too low. Try again.\")\n",
    "    else:\n",
    "        print(\"Your guess is too high.\")\n",
    "    guessNum = int(input(\"Guess a number btw 1 and 100: \"))\n",
    "print(\"Congratulations! You guessed the number:\", secretnum)"
   ]
  },
  {
   "cell_type": "code",
   "execution_count": 8,
   "id": "3200f2b3",
   "metadata": {},
   "outputs": [
    {
     "name": "stdout",
     "output_type": "stream",
     "text": [
      "Angles form a triangle.\n"
     ]
    }
   ],
   "source": [
    "#33 Input three angles and determine if they form a triangle or not.\n",
    "angle1 = angle2 = angle3 = 0\n",
    "angle1 = float(input(\"Enter first angle: \"))\n",
    "angle2 = float(input(\"Enter second angle: \"))\n",
    "angle3 = float(input(\"Enter thrid angle: \"))\n",
    "if (angle1 + angle2 + angle3) == 180:\n",
    "    print(\"Angles form a triangle.\")\n",
    "else :\n",
    "    print(\"Angles do not form a triangle.\")\n",
    "    "
   ]
  },
  {
   "cell_type": "code",
   "execution_count": 10,
   "id": "d1708b20",
   "metadata": {},
   "outputs": [
    {
     "name": "stdout",
     "output_type": "stream",
     "text": [
      "8 to the power 3 is 512\n"
     ]
    }
   ],
   "source": [
    "# 34 input two integers x and n compute x power n using a loop.\n",
    "x = int(input(\"Enter a positive integer x: \"))\n",
    "n = int(input(\"Enter the power n: \"))\n",
    "power = 1 \n",
    "for i in range(n):\n",
    "    power = power*x\n",
    "print(x,\"to the power\",n,\"is\",power)\n"
   ]
  },
  {
   "cell_type": "code",
   "execution_count": 12,
   "id": "6a903741",
   "metadata": {},
   "outputs": [
    {
     "name": "stdout",
     "output_type": "stream",
     "text": [
      "Enter 2 number below:\n",
      "Calculator Menu:\n",
      "1.Add\n",
      "2.Subtract\n",
      "3.Multiply\n",
      "4.Divide\n",
      "5.Exit\n",
      "Sum of 2 and 2 is 4\n",
      "Calculator Menu:\n",
      "1.Add\n",
      "2.Subtract\n",
      "3.Multiply\n",
      "4.Divide\n",
      "5.Exit\n",
      "Subtraction of 2 and 2 is 0\n",
      "Calculator Menu:\n",
      "1.Add\n",
      "2.Subtract\n",
      "3.Multiply\n",
      "4.Divide\n",
      "5.Exit\n",
      "Multiplication of 2 and 2 is 4\n",
      "Calculator Menu:\n",
      "1.Add\n",
      "2.Subtract\n",
      "3.Multiply\n",
      "4.Divide\n",
      "5.Exit\n",
      "divieding 2 by 2 gives 1.0\n",
      "Calculator Menu:\n",
      "1.Add\n",
      "2.Subtract\n",
      "3.Multiply\n",
      "4.Divide\n",
      "5.Exit\n"
     ]
    }
   ],
   "source": [
    "#35 A simple calculator for two input] numbers and an operator.\n",
    "print(\"Enter 2 number below:\")\n",
    "a = int(input(\"Enter first number: \"))\n",
    "b = int(input(\"Enter second number: \"))\n",
    "ch = 0 \n",
    "while ch <5:\n",
    "    print(\"Calculator Menu:\")\n",
    "    print(\"1.Add\")\n",
    "    print(\"2.Subtract\")\n",
    "    print(\"3.Multiply\")\n",
    "    print(\"4.Divide\")\n",
    "    print(\"5.Exit\")\n",
    "\n",
    "    # input choice\n",
    "    ch = int(input(\"Enter your choice(1-5):\"))\n",
    "    if ch == 1:\n",
    "        c = a+b\n",
    "        print(\"Sum of\",a,\"and\",b,\"is\",c)\n",
    "    elif ch == 2:\n",
    "        c = a-b\n",
    "        print(\"Subtraction of\",a,\"and\",b,\"is\",c)\n",
    "    elif ch == 3:\n",
    "        c = a*b\n",
    "        print(\"Multiplication of\",a,\"and\",b,\"is\",c)\n",
    "    elif ch == 4:\n",
    "        c = a/b\n",
    "        print(\"divieding\",a,\"by\",b,\"gives\",c)\n",
    "    elif ch == 5:\n",
    "        break\n",
    "    else:\n",
    "        print(\"Invalid choice. Please try again.\")\n",
    "        "
   ]
  },
  {
   "cell_type": "code",
   "execution_count": 13,
   "id": "8643a356",
   "metadata": {},
   "outputs": [
    {
     "name": "stdout",
     "output_type": "stream",
     "text": [
      "1\n",
      "11\n",
      "111\n",
      "1111\n",
      "11111\n"
     ]
    }
   ],
   "source": [
    "#36 print a number using single loop\n",
    "n = 1\n",
    "for a in range(5):\n",
    "    print(n)\n",
    "    n = n * 10 + 1"
   ]
  },
  {
   "cell_type": "code",
   "execution_count": 1,
   "id": "9e243b49",
   "metadata": {},
   "outputs": [
    {
     "name": "stdout",
     "output_type": "stream",
     "text": [
      "4321\n",
      "432\n",
      "43\n",
      "4\n"
     ]
    }
   ],
   "source": [
    "#37 print pattern\n",
    "for i in range(4):\n",
    "    for j in range(4,i,-1):\n",
    "        print(j,end =\"\")\n",
    "    else :\n",
    "        print()"
   ]
  },
  {
   "cell_type": "code",
   "execution_count": 1,
   "id": "cea4d279",
   "metadata": {},
   "outputs": [
    {
     "name": "stdout",
     "output_type": "stream",
     "text": [
      "Simple Calculator\n",
      "Select operation:\n",
      "1. Add\n",
      "2. Subtract\n",
      "3. Multiply\n",
      "4. Divide\n",
      "Select operation:\n",
      "1. Add\n",
      "2. Subtract\n",
      "3. Multiply\n",
      "4. Divide\n",
      "Result: 0.0\n",
      "Result: 0.0\n"
     ]
    }
   ],
   "source": [
    "#38 Simple Calculator\n",
    "print(\"Simple Calculator\")\n",
    "num1 = float(input(\"Enter first number: \"))\n",
    "num2 = float(input(\"Enter second number: \"))\n",
    "print(\"Select operation:\")\n",
    "print(\"1. Add\")\n",
    "print(\"2. Subtract\")\n",
    "print(\"3. Multiply\")\n",
    "print(\"4. Divide\")\n",
    "choice = input(\"Enter choice (1/2/3/4): \")\n",
    "if choice == '1':\n",
    "    print(\"Result:\", num1 + num2)\n",
    "elif choice == '2':\n",
    "    print(\"Result:\", num1 - num2)\n",
    "elif choice == '3':\n",
    "    print(\"Result:\", num1 * num2)\n",
    "elif choice == '4':\n",
    "    if num2 != 0:\n",
    "        print(\"Result:\", num1 / num2)\n",
    "    else:\n",
    "        print(\"Error: Division by zero\")\n",
    "else:\n",
    "    print(\"Invalid input\")\n"
   ]
  },
  {
   "cell_type": "code",
   "execution_count": null,
   "id": "fa9a5c1c",
   "metadata": {},
   "outputs": [],
   "source": [
    "def atm_system():\n",
    "    # Initial account state\n",
    "    account_pin = \"1234\"\n",
    "    balance = 1000.0\n",
    "    transactions = []  # store tuples like (\"Deposit\", amount)\n",
    "\n",
    "    # Login with up to 3 attempts\n",
    "    attempts = 0\n",
    "    while attempts < 3:\n",
    "        pin = input(\"Enter your 4-digit PIN: \").strip()\n",
    "        if pin == account_pin:\n",
    "            print(\"Login successful.\\n\")\n",
    "            break\n",
    "        attempts += 1\n",
    "        print(f\"Incorrect PIN. Attempts left: {3 - attempts}\")\n",
    "    else:\n",
    "        print(\"Too many incorrect attempts. Exiting.\")\n",
    "        return\n",
    "\n",
    "    # Main ATM menu loop\n",
    "    while True:\n",
    "        print(\"\\nATM Menu:\")\n",
    "        print(\"1. Check Balance\")\n",
    "        print(\"2. Withdraw\")\n",
    "        print(\"3. Deposit\")\n",
    "        print(\"4. Mini Statement\")\n",
    "        print(\"5. Change PIN\")\n",
    "        print(\"6. Exit\")\n",
    "\n",
    "        try:\n",
    "            option = int(input(\"Choose an option (1-6): \").strip())\n",
    "        except ValueError:\n",
    "            print(\"Invalid selection. Enter a number between 1 and 6.\")\n",
    "            continue\n",
    "\n",
    "        if option == 1:\n",
    "            print(f\"Current balance: ${balance:.2f}\")\n",
    "\n",
    "        elif option == 2:\n",
    "            try:\n",
    "                amt = float(input(\"Enter amount to withdraw: \").strip())\n",
    "            except ValueError:\n",
    "                print(\"Invalid amount.\")\n",
    "                continue\n",
    "            if amt <= 0:\n",
    "                print(\"Enter a positive amount.\")\n",
    "            elif amt > balance:\n",
    "                print(\"Insufficient balance.\")\n",
    "            else:\n",
    "                balance -= amt\n",
    "                transactions.append((\"Withdraw\", amt))\n",
    "                print(f\"Please collect ${amt:.2f}. New balance: ${balance:.2f}\")\n",
    "\n",
    "        elif option == 3:\n",
    "            try:\n",
    "                amt = float(input(\"Enter amount to deposit: \").strip())\n",
    "            except ValueError:\n",
    "                print(\"Invalid amount.\")\n",
    "                continue\n",
    "            if amt <= 0:\n",
    "                print(\"Enter a positive amount.\")\n",
    "            else:\n",
    "                balance += amt\n",
    "                transactions.append((\"Deposit\", amt))\n",
    "                print(f\"${amt:.2f} deposited. New balance: ${balance:.2f}\")\n",
    "\n",
    "        elif option == 4:\n",
    "            print(\"Mini Statement (most recent first):\")\n",
    "            if not transactions:\n",
    "                print(\"No transactions yet.\")\n",
    "            else:\n",
    "                for ttype, tamt in transactions[-10:][::-1]:\n",
    "                    print(f\"{ttype}: ${tamt:.2f}\")\n",
    "                print(f\"Current balance: ${balance:.2f}\")\n",
    "\n",
    "        elif option == 5:\n",
    "            old = input(\"Enter current PIN: \").strip()\n",
    "            if old != account_pin:\n",
    "                print(\"Incorrect current PIN.\")\n",
    "                continue\n",
    "            new = input(\"Enter new 4-digit PIN: \").strip()\n",
    "            confirm = input(\"Confirm new PIN: \").strip()\n",
    "            if new != confirm:\n",
    "                print(\"PINs do not match.\")\n",
    "            elif len(new) != 4 or not new.isdigit():\n",
    "                print(\"PIN must be exactly 4 digits.\")\n",
    "            else:\n",
    "                account_pin = new\n",
    "                print(\"PIN changed successfully.\")\n",
    "\n",
    "        elif option == 6:\n",
    "            print(\"Thank you for using the ATM. Goodbye.\")\n",
    "            break\n",
    "\n",
    "        else:\n",
    "            print(\"Invalid option. Please choose between 1 and 6.\")\n",
    "\n",
    "\n",
    "# Run the ATM system\n",
    "atm_system()"
   ]
  }
 ],
 "metadata": {
  "kernelspec": {
   "display_name": "Python 3",
   "language": "python",
   "name": "python3"
  },
  "language_info": {
   "codemirror_mode": {
    "name": "ipython",
    "version": 3
   },
   "file_extension": ".py",
   "mimetype": "text/x-python",
   "name": "python",
   "nbconvert_exporter": "python",
   "pygments_lexer": "ipython3",
   "version": "3.13.7"
  },
  "widgets": {
   "application/vnd.jupyter.widget-state+json": {
    "state": {},
    "version_major": 2,
    "version_minor": 0
   }
  }
 },
 "nbformat": 4,
 "nbformat_minor": 5
}
