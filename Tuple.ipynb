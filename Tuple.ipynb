{
 "cells": [
  {
   "cell_type": "markdown",
   "id": "a005b1b7-af7d-4abb-a273-4a937d2fc818",
   "metadata": {},
   "source": [
    "# Tuples\n"
   ]
  },
  {
   "cell_type": "code",
   "execution_count": null,
   "id": "8368a56f-8864-4f85-9c0b-fd6d69b92616",
   "metadata": {},
   "outputs": [],
   "source": []
  },
  {
   "cell_type": "code",
   "execution_count": 1,
   "id": "23683554-c793-4b23-89f7-99fa2c0001d9",
   "metadata": {},
   "outputs": [
    {
     "name": "stdin",
     "output_type": "stream",
     "text": [
      "Enter input for tuple1: \"abcdef\"\n",
      "Enter input for tuple2: 3,4,5,6\n",
      "Enter input for tuple3: [11,12,13]\n"
     ]
    },
    {
     "name": "stdout",
     "output_type": "stream",
     "text": [
      "Tuple1: ('a', 'b', 'c', 'd', 'e', 'f')\n",
      "Tuple2: (3, 4, 5, 6)\n",
      "Tuple3: (11, 12, 13)\n"
     ]
    }
   ],
   "source": [
    "t1 = tuple(eval(input(\"Enter input for tuple1:\")))\n",
    "t2 = tuple(eval(input(\"Enter input for tuple2:\")))\n",
    "t3 = tuple(eval(input(\"Enter input for tuple3:\")))\n",
    "print(\"Tuple1:\",t1)\n",
    "print(\"Tuple2:\",t2)\n",
    "print(\"Tuple3:\",t3)\n"
   ]
  },
  {
   "cell_type": "code",
   "execution_count": 3,
   "id": "35fd8a15-9e75-4d1d-9826-8c1b58bce047",
   "metadata": {},
   "outputs": [
    {
     "name": "stdout",
     "output_type": "stream",
     "text": [
      "Tuple1: <class 'tuple'>\n",
      "Tuple2: <class 'tuple'>\n",
      "Tuple3: <class 'tuple'>\n"
     ]
    }
   ],
   "source": [
    "print(\"Tuple1:\",type(t1))\n",
    "print(\"Tuple2:\",type(t2))\n",
    "print(\"Tuple3:\",type(t3))"
   ]
  },
  {
   "cell_type": "code",
   "execution_count": 12,
   "id": "d4267e3f-3ffa-4565-a33a-2cc8fa640d3f",
   "metadata": {},
   "outputs": [
    {
     "name": "stdin",
     "output_type": "stream",
     "text": [
      "Enter input for tuple:- 67,\n"
     ]
    },
    {
     "name": "stdout",
     "output_type": "stream",
     "text": [
      "Created tuple is : (67,)\n",
      "type of t1: <class 'tuple'>\n"
     ]
    }
   ],
   "source": [
    "t1 = eval(input(\"Enter input for tuple:-\"))\n",
    "print(\"Created tuple is :\",t1)\n",
    "print(\"type of t1:\",type(t1))"
   ]
  },
  {
   "cell_type": "code",
   "execution_count": 13,
   "id": "db5fe53d-161a-4515-af9a-d09df9f0c4a0",
   "metadata": {},
   "outputs": [
    {
     "name": "stdin",
     "output_type": "stream",
     "text": [
      "Enter input for tuple:- 11,12,13,14,15,16,17,18,19\n"
     ]
    },
    {
     "name": "stdout",
     "output_type": "stream",
     "text": [
      "11 19\n",
      "12 18\n",
      "14 17\n"
     ]
    }
   ],
   "source": [
    "t1 = eval(input(\"Enter input for tuple:-\"))\n",
    "print(t1[0],t1[-1])\n",
    "print(t1[1],t1[-2])\n",
    "print(t1[3],t1[-3])"
   ]
  },
  {
   "cell_type": "code",
   "execution_count": 15,
   "id": "4e2d90b1-2f17-457f-91cf-b0b8af3f6c24",
   "metadata": {},
   "outputs": [
    {
     "name": "stdout",
     "output_type": "stream",
     "text": [
      "At indexes 0 and -5 element: Hello\n",
      "At indexes 1 and -4 element: Isnt\n",
      "At indexes 2 and -3 element: Python\n",
      "At indexes 3 and -2 element: Fun\n",
      "At indexes 4 and -1 element: ?\n"
     ]
    }
   ],
   "source": [
    "t = ('Hello','Isnt','Python','Fun','?')\n",
    "length = len(t)\n",
    "for a in range(length):\n",
    "    print('At indexes',a,'and',(a-length),'element:',t[a])"
   ]
  },
  {
   "cell_type": "code",
   "execution_count": 16,
   "id": "cb2b0b84-3652-4841-b90d-77aaec3590bd",
   "metadata": {},
   "outputs": [
    {
     "name": "stdin",
     "output_type": "stream",
     "text": [
      "Enter input for tuple: 1,2,3,4,5,6,7,8,9,10,11\n"
     ]
    },
    {
     "name": "stdout",
     "output_type": "stream",
     "text": [
      "two created tuples are:\n",
      "tuple1  (11, 8, 5, 2)\n",
      "tuple2  (3, 5, 7)\n"
     ]
    }
   ],
   "source": [
    "tup=eval(input(\"Enter input for tuple:\"))\n",
    "t1 = tup[::-3]\n",
    "t2 = tup[2:8:2]\n",
    "print(\"two created tuples are:\")\n",
    "print(\"tuple1 \",t1)\n",
    "print(\"tuple2 \",t2)"
   ]
  },
  {
   "cell_type": "code",
   "execution_count": 18,
   "id": "e694c5ce-aea3-46ec-b724-0db16ce19154",
   "metadata": {},
   "outputs": [
    {
     "name": "stdin",
     "output_type": "stream",
     "text": [
      "Enter a tuple: 26,25,24,28\n"
     ]
    },
    {
     "name": "stdout",
     "output_type": "stream",
     "text": [
      "Tuple contains differente elements.\n"
     ]
    }
   ],
   "source": [
    "tup = eval(input(\"Enter a tuple:\"))\n",
    "ln = len(tup)\n",
    "num = tup.count(tup[0])\n",
    "if num == ln:\n",
    "    print(\"tuple contains all the same elements.\")\n",
    "else:\n",
    "    print(\"Tuple contains differente elements.\")\n",
    "    "
   ]
  },
  {
   "cell_type": "code",
   "execution_count": 22,
   "id": "18f9d655-e0fb-4b6b-a20a-f560b1ef73b6",
   "metadata": {},
   "outputs": [
    {
     "name": "stdout",
     "output_type": "stream",
     "text": [
      "modified tuple : (11, 21, 31, 41, 51)\n"
     ]
    }
   ],
   "source": [
    "t1 = (11,21,31,42,51)\n",
    "tl1= list(t1)\n",
    "tl1[-2]=41\n",
    "t1= tuple(tl1)\n",
    "print(\"modified tuple :\",t1)"
   ]
  },
  {
   "cell_type": "code",
   "execution_count": null,
   "id": "aa76e8f3-b332-4d0e-b2ba-cd6e09fabc55",
   "metadata": {},
   "outputs": [],
   "source": []
  }
 ],
 "metadata": {
  "kernelspec": {
   "display_name": "Python 3 (ipykernel)",
   "language": "python",
   "name": "python3"
  },
  "language_info": {
   "codemirror_mode": {
    "name": "ipython",
    "version": 3
   },
   "file_extension": ".py",
   "mimetype": "text/x-python",
   "name": "python",
   "nbconvert_exporter": "python",
   "pygments_lexer": "ipython3",
   "version": "3.13.5"
  }
 },
 "nbformat": 4,
 "nbformat_minor": 5
}
