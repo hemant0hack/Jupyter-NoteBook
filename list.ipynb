{
 "cells": [
  {
   "cell_type": "markdown",
   "id": "be129895",
   "metadata": {},
   "source": [
    "# List in Python"
   ]
  },
  {
   "cell_type": "code",
   "execution_count": null,
   "id": "acccf38a",
   "metadata": {},
   "outputs": [
    {
     "name": "stdout",
     "output_type": "stream",
     "text": [
      "At indexes 0 and -6 elments are q\n",
      "At indexes 1 and -5 elments are w\n",
      "At indexes 2 and -4 elments are e\n",
      "At indexes 3 and -3 elments are r\n",
      "At indexes 4 and -2 elments are t\n",
      "At indexes 5 and -1 elments are y\n"
     ]
    }
   ],
   "source": [
    "# \n",
    "l = ['q', 'w', 'e', 'r', 't', 'y']\n",
    "length = len(l)\n",
    "for a in range(length):\n",
    "    print(\"At indexes\",a,\"and\",(a-length),\"elments are\",l[a])"
   ]
  },
  {
   "cell_type": "code",
   "execution_count": 1,
   "id": "c4e210e9",
   "metadata": {},
   "outputs": [
    {
     "name": "stdout",
     "output_type": "stream",
     "text": [
      "Original list: [17, 24, 15, 30, 34, 27]\n",
      "Created copy of list: [17, 24, 15, 30, 34, 27]\n",
      "After modifying copy of list: [27, 24, 15, 30, 34, 37]\n",
      "Created copy of list: [27, 24, 15, 30, 34, 37]\n"
     ]
    }
   ],
   "source": [
    "l1 = [17,24,15,30,34,27]\n",
    "l2 = l1.copy()\n",
    "print(\"Original list:\",l1)\n",
    "print(\"Created copy of list:\",l2)\n",
    "l2[0] += 10\n",
    "l2[-1] +=10\n",
    "print(\"After modifying copy of list:\",l2)\n",
    "print(\"Created copy of list:\",l2)"
   ]
  },
  {
   "cell_type": "code",
   "execution_count": 7,
   "id": "d8c08bf0",
   "metadata": {},
   "outputs": [
    {
     "name": "stdout",
     "output_type": "stream",
     "text": [
      "2D list is: [[3, 3], [3, 3]]\n"
     ]
    }
   ],
   "source": [
    "# Program to create a 2d list.\n",
    "lst=[]\n",
    "r = int(input(\"Enter number of rows:\"))\n",
    "c = int(input(\"Enter number of columns:\"))\n",
    "for i in range(r):\n",
    "    row =[]\n",
    "    for j in range(c):\n",
    "        elem = int(input(\"Element\"+str(i)+\",\"+str(j)+\":\"))\n",
    "        row.append(elem)\n",
    "    lst.append(row)\n",
    "print(\"2D list is:\",lst)"
   ]
  },
  {
   "cell_type": "code",
   "execution_count": 9,
   "id": "5bd029ec",
   "metadata": {},
   "outputs": [
    {
     "name": "stdout",
     "output_type": "stream",
     "text": [
      "List created is:\n",
      "lst = [\n",
      "\t[ 3 3 ]\n",
      "\t[ 3 3 ]\n",
      "\t]\n"
     ]
    }
   ],
   "source": [
    "# Program to traverse a 2d list\n",
    "print(\"List created is:\")\n",
    "print(\"lst = [\")\n",
    "for i in range(r):\n",
    "    print(\"\\t[\",end = \" \")\n",
    "    for j in range(c):\n",
    "        print(lst[i][j],end = \" \")\n",
    "    print(\"]\")\n",
    "print(\"\\t]\")"
   ]
  },
  {
   "cell_type": "code",
   "execution_count": 1,
   "id": "be0fe081",
   "metadata": {},
   "outputs": [
    {
     "name": "stdout",
     "output_type": "stream",
     "text": [
      "Slice 1\n",
      "6 8 10 12 14 \n",
      "Sum of elementsof slice 1: 50\n",
      "Slice 2\n",
      "1 5 9 13 17 \n",
      "Average of elementsof Slice2 : 9.0\n"
     ]
    }
   ],
   "source": [
    "# Extract two list-slices out of a given list of numbers.\n",
    "lst = [1,2,3,4,5,6,7,8,9,10,11,12,13,14,15,16,17,18,19,20]\n",
    "slc1 = lst[5:15:2]\n",
    "slc2 = lst[::4]\n",
    "sum = avg = 0\n",
    "print(\"Slice 1\")\n",
    "\n",
    "for a in slc1 :\n",
    "    sum += a \n",
    "    print(a,end=' ')\n",
    "print()\n",
    "print(\"Sum of elementsof slice 1:\",sum)\n",
    "print(\"Slice 2\")\n",
    "sum = 0 \n",
    "for a in slc2 :\n",
    "    sum += a\n",
    "    print(a,end =' ')\n",
    "print()\n",
    "avg = sum/len(slc2)\n",
    "print(\"Average of elementsof Slice2 :\",avg)"
   ]
  },
  {
   "cell_type": "code",
   "execution_count": 14,
   "id": "ab12f45c-181f-44de-8728-f3201ae4115a",
   "metadata": {},
   "outputs": [
    {
     "name": "stdout",
     "output_type": "stream",
     "text": [
      "The list is: [17, 23, 18, 19]\n",
      "Main menu\n",
      "1. Insert\n",
      "2. Delete\n",
      "3. Exit\n"
     ]
    },
    {
     "name": "stdout",
     "output_type": "stream",
     "text": [
      "Enter your choice 1/2/3: 2\n"
     ]
    },
    {
     "name": "stdout",
     "output_type": "stream",
     "text": [
      " Deletion menu\n",
      "1. Delete using value\n",
      "2. Delete using index\n",
      "3. delete a sublist\n"
     ]
    },
    {
     "name": "stdout",
     "output_type": "stream",
     "text": [
      "Enter choice (1 or 2 or 3): 1\n",
      "Enter item to be deleted: 17\n"
     ]
    },
    {
     "name": "stdout",
     "output_type": "stream",
     "text": [
      "List now is : [23, 18, 19]\n",
      "Main menu\n",
      "1. Insert\n",
      "2. Delete\n",
      "3. Exit\n"
     ]
    },
    {
     "name": "stdout",
     "output_type": "stream",
     "text": [
      "Enter your choice 1/2/3: 2\n"
     ]
    },
    {
     "name": "stdout",
     "output_type": "stream",
     "text": [
      " Deletion menu\n",
      "1. Delete using value\n",
      "2. Delete using index\n",
      "3. delete a sublist\n"
     ]
    },
    {
     "name": "stdout",
     "output_type": "stream",
     "text": [
      "Enter choice (1 or 2 or 3): 2\n",
      "Enter index of item to be deleted: 2\n"
     ]
    },
    {
     "name": "stdout",
     "output_type": "stream",
     "text": [
      "List is now [23, 18]\n",
      "Main menu\n",
      "1. Insert\n",
      "2. Delete\n",
      "3. Exit\n"
     ]
    },
    {
     "name": "stdout",
     "output_type": "stream",
     "text": [
      "Enter your choice 1/2/3: 3\n"
     ]
    }
   ],
   "source": [
    "#\n",
    "val = [17,23,18,19]\n",
    "print(\"The list is:\",val)\n",
    "while True :\n",
    "    print(\"Main menu\")\n",
    "    print(\"1. Insert\")\n",
    "    print(\"2. Delete\")\n",
    "    print(\"3. Exit\")\n",
    "    ch = int(input(\"Enter your choice 1/2/3:\"))\n",
    "    if ch == 1:\n",
    "        item = int(input(\"Enter item:\"))\n",
    "        pos = int(input(\"Insert at which position?\"))\n",
    "        index = pos - 1\n",
    "        val.insert(index,item)\n",
    "        print(\"Success! List now is :\",val)\n",
    "    elif ch == 2:\n",
    "        print(\" Deletion menu\")\n",
    "        print(\"1. Delete using value\")\n",
    "        print(\"2. Delete using index\")\n",
    "        print(\"3. delete a sublist\")\n",
    "        dch = int(input(\"Enter choice (1 or 2 or 3):\"))\n",
    "        if dch == 1:\n",
    "            item = int(input(\"Enter item to be deleted:\"))\n",
    "            val.remove(item)\n",
    "            print(\"List now is :\",val)\n",
    "        elif dch == 2:\n",
    "            index =  int(input(\"Enter index of item to be deleted:\"))\n",
    "            val.pop(index)\n",
    "            print(\"List is now\",val)\n",
    "        elif dch == 3:\n",
    "            l = int(input(\"Enter lower limit of list slice to be deleted:\"))\n",
    "            h = int(input(\"Enter upper limit of list slice to be deleted:\"))\n",
    "            del val[1:h]\n",
    "            print(\"List now is:\",val)\n",
    "        else :\n",
    "            print(\"valid choices are 1/2/3 only.\")\n",
    "    elif ch == 3:\n",
    "        break;\n",
    "    else :\n",
    "        print(\"valid choices are 1/2/3 only.\")\n",
    "        "
   ]
  },
  {
   "cell_type": "code",
   "execution_count": 15,
   "id": "3d881b0f-4b3e-484f-ab2a-dad4062187f6",
   "metadata": {},
   "outputs": [
    {
     "name": "stdout",
     "output_type": "stream",
     "text": [
      "Enter a list: [23,11,29]\n"
     ]
    },
    {
     "name": "stdout",
     "output_type": "stream",
     "text": [
      "Original list : [23, 11, 29]\n",
      "Replicated list : [23, 11, 29, 23, 11, 29]\n",
      "Sorted in ascending order : [11, 11, 23, 23, 29, 29]\n",
      "Sorted in descending order : [29, 29, 23, 23, 11, 11]\n"
     ]
    }
   ],
   "source": [
    "val = eval(input(\"Enter a list:\"))\n",
    "print(\"Original list :\",val)\n",
    "val = val * 2\n",
    "print(\"Replicated list :\",val)\n",
    "val.sort()\n",
    "print(\"Sorted in ascending order :\",val)\n",
    "val.sort(reverse=True)\n",
    "print(\"Sorted in descending order :\",val)"
   ]
  },
  {
   "cell_type": "code",
   "execution_count": null,
   "id": "ad83c11e-e946-4769-9024-7b8772ffd46d",
   "metadata": {},
   "outputs": [],
   "source": []
  }
 ],
 "metadata": {
  "kernelspec": {
   "display_name": "Python 3 (ipykernel)",
   "language": "python",
   "name": "python3"
  },
  "language_info": {
   "codemirror_mode": {
    "name": "ipython",
    "version": 3
   },
   "file_extension": ".py",
   "mimetype": "text/x-python",
   "name": "python",
   "nbconvert_exporter": "python",
   "pygments_lexer": "ipython3",
   "version": "3.13.5"
  }
 },
 "nbformat": 4,
 "nbformat_minor": 5
}
